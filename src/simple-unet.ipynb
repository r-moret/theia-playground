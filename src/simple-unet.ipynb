{
 "cells": [
  {
   "cell_type": "code",
   "execution_count": null,
   "metadata": {},
   "outputs": [],
   "source": [
    "import pandas as pd\n",
    "import numpy as np\n",
    "import tensorflow as tf\n",
    "import cv2 as cv\n",
    "import matplotlib.pyplot as plt\n",
    "import nibabel as nib\n",
    "\n",
    "import os\n",
    "\n",
    "from tensorflow import keras\n",
    "from keras.layers import (\n",
    "    Input, \n",
    "    Conv2D, \n",
    "    MaxPool2D, \n",
    "    Conv2DTranspose, \n",
    "    CenterCrop, \n",
    "    Concatenate\n",
    ")\n",
    "\n",
    "os.chdir('../../')"
   ]
  },
  {
   "cell_type": "code",
   "execution_count": null,
   "metadata": {},
   "outputs": [],
   "source": [
    "DATA_FOLDER = 'data/BRATS'"
   ]
  },
  {
   "cell_type": "code",
   "execution_count": null,
   "metadata": {},
   "outputs": [],
   "source": [
    "def plot_mri(file_path: str, selected_slice: int, *, segmentation_path: str = None):\n",
    "\n",
    "    img = nib.load(f\"{file_path}\").get_fdata()\n",
    "    img_slice = img[:, :, selected_slice]\n",
    "\n",
    "    if segmentation_path:\n",
    "        label = nib.load(f\"{segmentation_path}\").get_fdata()\n",
    "        label_slice = label[:, :, selected_slice]\n",
    "\n",
    "        label_masked = np.ma.masked_where(label_slice == 0, label_slice)\n",
    "\n",
    "        plt.imshow(img_slice.T, cmap=\"gray\")\n",
    "        plt.imshow(label_masked.T, cmap=\"gnuplot\", alpha=0.5)\n",
    "    else:\n",
    "        plt.imshow(img_slice.T, cmap=\"gray\")\n",
    "\n",
    "    plt.show()\n",
    "\n",
    "\n",
    "file = \"1.nii\"\n",
    "plot_mri(f\"{DATA_FOLDER}/originals/{file}\", 80, segmentation_path=f\"{DATA_FOLDER}/labels/{file}\")\n"
   ]
  },
  {
   "cell_type": "code",
   "execution_count": null,
   "metadata": {},
   "outputs": [],
   "source": [
    "def create_standard_unet():\n",
    "    # ======================== CONTRACTING PATH ==========================\n",
    "\n",
    "    inputs = Input(shape=(572, 572, 1))                      # 572x572x1\n",
    "\n",
    "    conv_1_1 = Conv2D(64, 3, activation='relu')(inputs)      # 570x570x64\n",
    "    conv_1_2 = Conv2D(64, 3, activation='relu')(conv_1_1)    # 568x568x64\n",
    "\n",
    "    pool_1 = MaxPool2D((2,2), strides=2)(conv_1_2)           # 284x284x64\n",
    "\n",
    "    conv_2_1 = Conv2D(128, 3, activation='relu')(pool_1)     # 282x282x128\n",
    "    conv_2_2 = Conv2D(128, 3, activation='relu')(conv_2_1)   # 280x280x128\n",
    "\n",
    "    pool_2 = MaxPool2D((2,2), strides=2)(conv_2_2)           # 140x140x128\n",
    "\n",
    "    conv_3_1 = Conv2D(256, 3, activation='relu')(pool_2)     # 138x138x256\n",
    "    conv_3_2 = Conv2D(256, 3, activation='relu')(conv_3_1)   # 136x136x256\n",
    "\n",
    "    pool_3 = MaxPool2D((2,2), strides=2)(conv_3_2)           # 68x68x256\n",
    "\n",
    "    conv_4_1 = Conv2D(512, 3, activation='relu')(pool_3)     # 66x66x512\n",
    "    conv_4_2 = Conv2D(512, 3, activation='relu')(conv_4_1)   # 64x64x512\n",
    "\n",
    "    pool_4 = MaxPool2D((2,2), strides=2)(conv_4_2)           # 32x32x512\n",
    "\n",
    "    conv_5_1 = Conv2D(1024, 3, activation='relu')(pool_4)    # 30x30x1024\n",
    "    conv_5_2 = Conv2D(1024, 3, activation='relu')(conv_5_1)  # 28x28x1024\n",
    "\n",
    "    # ======================== EXPANDING PATH ============================\n",
    "\n",
    "    up_1 = Conv2DTranspose(512, 2, strides=2, padding='same')(conv_5_2)   # 56x56x512\n",
    "    conv_4_2_crop = CenterCrop(up_1.shape[1], up_1.shape[2])(conv_4_2)    # 56x56x512\n",
    "\n",
    "    concat_1 = Concatenate()([up_1, conv_4_2_crop])                       # 56x56x1024\n",
    "    conv_6_1 = Conv2D(512, 3, activation='relu')(concat_1)                # 54x54x512\n",
    "    conv_6_2 = Conv2D(512, 3, activation='relu')(conv_6_1)                # 52x52x512\n",
    "\n",
    "    up_2 = Conv2DTranspose(256, 2, strides=2, padding='same')(conv_6_2)   # 104x104x256\n",
    "    conv_3_2_crop = CenterCrop(up_2.shape[1], up_2.shape[2])(conv_3_2)    # 104x104x256\n",
    "\n",
    "    concat_2 = Concatenate()([up_2, conv_3_2_crop])                       # 104x104x512\n",
    "    conv_7_1 = Conv2D(256, 3, activation='relu')(concat_2)                # 102x102x256\n",
    "    conv_7_2 = Conv2D(256, 3, activation='relu')(conv_7_1)                # 100x100x256\n",
    "\n",
    "    up_3 = Conv2DTranspose(128, 2, strides=2, padding=\"same\")(conv_7_2)   # 200x200x128\n",
    "    conv_2_2_crop = CenterCrop(up_3.shape[1], up_3.shape[2])(conv_2_2)    # 200x200x128\n",
    "\n",
    "    concat_3 = Concatenate()([up_3, conv_2_2_crop])                       # 200x200x256\n",
    "    conv_8_1 = Conv2D(128, 3, activation='relu')(concat_3)                # 198x198x128\n",
    "    conv_8_2 = Conv2D(128, 3, activation='relu')(conv_8_1)                # 196x196x128\n",
    "\n",
    "    up_4 = Conv2DTranspose(64, 2, strides=2, padding='same')(conv_8_2)    # 392x392x64\n",
    "    conv_1_2_crop = CenterCrop(up_4.shape[1], up_4.shape[2])(conv_1_2)    # 392x392x64\n",
    "\n",
    "    concat_4 = Concatenate()([up_4, conv_1_2_crop])                       # 392x392x128\n",
    "    conv_9_1 = Conv2D(64, 3, activation='relu')(concat_4)                 # 390x390x64\n",
    "    conv_9_2 = Conv2D(64, 3, activation='relu')(conv_9_1)                 # 388x388x64\n",
    "    conv_9_3 = Conv2D(2, 1, activation='softmax')(conv_9_2)               # 388x388x2\n",
    "\n",
    "    unet = tf.keras.Model(inputs, conv_9_3)\n",
    "    return unet"
   ]
  },
  {
   "cell_type": "code",
   "execution_count": null,
   "metadata": {},
   "outputs": [],
   "source": [
    "unet = create_standard_unet()\n",
    "\n",
    "unet.summary(line_length=130)"
   ]
  }
 ],
 "metadata": {
  "interpreter": {
   "hash": "c35a0ac0e54660a3f6b3415740e3a90cbf569c8b0978327d61e566b03c7762ce"
  },
  "kernelspec": {
   "display_name": "Python 3 (ipykernel)",
   "language": "python",
   "name": "python3"
  },
  "language_info": {
   "codemirror_mode": {
    "name": "ipython",
    "version": 3
   },
   "file_extension": ".py",
   "mimetype": "text/x-python",
   "name": "python",
   "nbconvert_exporter": "python",
   "pygments_lexer": "ipython3",
   "version": "3.9.10"
  }
 },
 "nbformat": 4,
 "nbformat_minor": 2
}
