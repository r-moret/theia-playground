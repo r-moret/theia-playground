{
 "cells": [
  {
   "cell_type": "code",
   "execution_count": null,
   "metadata": {},
   "outputs": [],
   "source": [
    "import pandas as pd\n",
    "import numpy as np\n",
    "import tensorflow as tf\n",
    "import cv2 as cv\n",
    "import matplotlib.pyplot as plt\n",
    "\n",
    "from tensorflow.keras.layers import Conv2D, Input, MaxPool2D"
   ]
  },
  {
   "cell_type": "code",
   "execution_count": null,
   "metadata": {},
   "outputs": [],
   "source": [
    "SEGMENTATED_DATA_FOLDER = '../../data/PASCAL/VOC2012/SegmentationObject'\n",
    "ORIGINAL_DATA_FOLDER = '../../data/PASCAL/VOC2012/JPEGImages'"
   ]
  },
  {
   "cell_type": "code",
   "execution_count": null,
   "metadata": {},
   "outputs": [],
   "source": [
    "img = cv.imread(f\"{ORIGINAL_DATA_FOLDER}/2007_000999.jpg\")\n",
    "img2 = cv.imread(f\"{ORIGINAL_DATA_FOLDER}/2007_000925.jpg\")\n",
    "\n",
    "img = cv.cvtColor(img, cv.COLOR_BGR2RGB)\n",
    "img2 = cv.cvtColor(img2, cv.COLOR_BGR2RGB)\n",
    "\n",
    "mask = cv.imread(f\"{SEGMENTATED_DATA_FOLDER}/2007_000999.png\", cv.IMREAD_GRAYSCALE)\n",
    "mask2 = cv.imread(f\"{SEGMENTATED_DATA_FOLDER}/2007_000925.png\", cv.IMREAD_GRAYSCALE)\n",
    "\n",
    "print(f\"Image shape: {mask.shape}\")\n",
    "print(f\"Image 2 shape: {mask2.shape}\")\n",
    "\n",
    "plt.imshow(img)\n",
    "plt.show()\n",
    "plt.imshow(img2)\n",
    "plt.show()\n"
   ]
  },
  {
   "cell_type": "code",
   "execution_count": null,
   "metadata": {},
   "outputs": [],
   "source": [
    "def create_std_unet():\n",
    "\n",
    "    contracting = contracting_path()\n",
    "    expanding = expanding_path(contracting)\n",
    "\n",
    "def contracting_path():\n",
    "    inputs = Input(shape=(572, 572, 1))                      # 572x572x1\n",
    "\n",
    "    conv_1_1 = Conv2D(64, 3, activation='relu')(inputs)      # 570x570x64\n",
    "    conv_1_2 = Conv2D(64, 3, activation='relu')(conv_1_1)    # 568x568x64\n",
    "\n",
    "    pool_1 = MaxPool2D((2,2), strides=2)(conv_1_2)           # 284x284x64\n",
    "\n",
    "    conv_2_1 = Conv2D(128, 3, activation='relu')(pool_1)     # 282x282x128\n",
    "    conv_2_2 = Conv2D(128, 3, activation='relu')(conv_2_1)   # 280x280x128\n",
    "\n",
    "    pool_2 = MaxPool2D((2,2,), strides=2)(conv_2_2)          # 140x140x128\n",
    "\n",
    "    conv_3_1 = Conv2D(256, 3, activation='relu')(pool_2)     # 138x138x256\n",
    "    conv_3_2 = Conv2D(256, 3, activation='relu')(conv_3_1)   # 136x136x256\n",
    "\n",
    "    pool_3 = MaxPool2D((2,2), strides=2)(conv_3_2)           # 68x68x256\n",
    "\n",
    "    conv_4_1 = Conv2D(512, 3, activation='relu')(pool_3)     # 66x66x512\n",
    "    conv_4_2 = Conv2D(512, 3, activation='relu')(conv_4_1)   # 64x64x512\n",
    "\n",
    "    pool_4 = MaxPool2D((2,2), strides=2)(conv_4_2)           # 32x32x512\n",
    "\n",
    "    conv_5_1 = Conv2D(1024, 3, activation='relu')(pool_4)    # 30x30x1024\n",
    "    conv_5_2 = Conv2D(1024, 3, activation='relu')(conv_5_1)  # 28x28x1024\n",
    "\n",
    "    return conv_5_2\n",
    "\n",
    "def expanding_path():\n",
    "    pass"
   ]
  }
 ],
 "metadata": {
  "interpreter": {
   "hash": "c35a0ac0e54660a3f6b3415740e3a90cbf569c8b0978327d61e566b03c7762ce"
  },
  "kernelspec": {
   "display_name": "Python 3.9.10 ('theia-env': venv)",
   "language": "python",
   "name": "python3"
  },
  "language_info": {
   "codemirror_mode": {
    "name": "ipython",
    "version": 3
   },
   "file_extension": ".py",
   "mimetype": "text/x-python",
   "name": "python",
   "nbconvert_exporter": "python",
   "pygments_lexer": "ipython3",
   "version": "3.9.10"
  },
  "orig_nbformat": 4
 },
 "nbformat": 4,
 "nbformat_minor": 2
}
